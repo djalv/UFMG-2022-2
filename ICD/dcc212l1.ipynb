{
 "cells": [
  {
   "cell_type": "markdown",
   "metadata": {
    "id": "Ol_wQuGG8CiC"
   },
   "source": [
    "# Lista 01 - Introdução e Revisão Numpy\n",
    "\n",
    "[NumPy](http://numpy.org) é um pacote incrivelmente poderoso em Python, onipresente em qualquer projeto de ciência de dados. Possui forte integração com o [Pandas](http://pandas.pydata.org), outra ferramenta que iremos abordar na matéria. NumPy adiciona suporte para matrizes multidimensionais e funções matemáticas que permitem que você execute facilmente cálculos de álgebra linear. Este notebook será uma coleção de exemplos de álgebra linear computados usando NumPy. \n",
    "\n",
    "## Numpy \n",
    "\n",
    "Para fazer uso de Numpy precisamos importar a biblioteca"
   ]
  },
  {
   "cell_type": "code",
   "execution_count": null,
   "metadata": {
    "id": "n9-2xQ1L8CiI"
   },
   "outputs": [],
   "source": [
    "# -*- coding: utf8\n",
    "\n",
    "import numpy as np"
   ]
  },
  {
   "cell_type": "markdown",
   "metadata": {
    "id": "5_sE_46T8CiJ"
   },
   "source": [
    "Quando pensamos no lado prático de ciência de dados, um aspecto chave que ajuda na implementação de novos algoritmos é a vetorização. De forma simples, vetorização consiste do uso de tipos como **escalar**, **vetor** e **matriz** para realizar uma computação mais eficaz (em tempo de execução).\n",
    "\n",
    "Uma matriz é uma coleção de valores, normalmente representada por uma grade 𝑚 × 𝑛, onde 𝑚 é o número de linhas e 𝑛 é o número de colunas. Os comprimentos das arestas 𝑚 e 𝑛 não precisam ser necessariamente diferentes. Se tivermos 𝑚 = 𝑛, chamamos isso de matriz quadrada. Um caso particularmente interessante de uma matriz é quando 𝑚 = 1 ou 𝑛 = 1. Nesse caso, temos um caso especial de uma matriz que chamamos de vetor. Embora haja um objeto de matriz em NumPy, faremos tudo usando matrizes NumPy porque elas podem ter dimensões maiores que 2. \n",
    "\n",
    "1. **Escalar:** Um vetor de zero dimensões"
   ]
  },
  {
   "cell_type": "code",
   "execution_count": null,
   "metadata": {
    "id": "S6ZgVe4t8CiL"
   },
   "outputs": [],
   "source": [
    "1"
   ]
  },
  {
   "cell_type": "markdown",
   "metadata": {
    "id": "J0oDidNU8CiL"
   },
   "source": [
    "2. **Vetor:** Representa uma dimensão"
   ]
  },
  {
   "cell_type": "markdown",
   "metadata": {
    "id": "87F7ejG88CiM"
   },
   "source": [
    "Abaixo vamos criar um vetor simples. Inicialmente, vamos criar uma lista."
   ]
  },
  {
   "cell_type": "code",
   "execution_count": null,
   "metadata": {
    "id": "qT-V1Au68CiN"
   },
   "outputs": [],
   "source": [
    "data_list = [3.5, 5, 2, 8, 4.2]"
   ]
  },
  {
   "cell_type": "markdown",
   "metadata": {
    "id": "4wJ75dyK8CiN"
   },
   "source": [
    "Observe o tipo da mesma."
   ]
  },
  {
   "cell_type": "code",
   "execution_count": null,
   "metadata": {
    "id": "c62B7Wgo8CiO"
   },
   "outputs": [],
   "source": [
    "type(data_list)"
   ]
  },
  {
   "cell_type": "markdown",
   "metadata": {
    "id": "8PRnp8Jr8CiO"
   },
   "source": [
    "Embora vetores e listas sejam parecidos, vetores Numpy são otimizados para operações de Álgebra Linear. Ciência de Dados faz bastante uso de tais operações, sendo este um dos motivos da dependência em Numpy.\n",
    "\n",
    "Abaixo criamos um vetor."
   ]
  },
  {
   "cell_type": "code",
   "execution_count": null,
   "metadata": {
    "id": "9wICD3a58CiP"
   },
   "outputs": [],
   "source": [
    "data = np.array(data_list)\n",
    "print(data)\n",
    "print(type(data))"
   ]
  },
  {
   "cell_type": "markdown",
   "metadata": {
    "id": "QcTlcbmx8CiP"
   },
   "source": [
    "Observe como podemos somar o mesmo com um número. Não é possível fazer tal operação com listas."
   ]
  },
  {
   "cell_type": "code",
   "execution_count": null,
   "metadata": {
    "id": "6Ou-IPkO8CiQ"
   },
   "outputs": [],
   "source": [
    "data + 7"
   ]
  },
  {
   "cell_type": "markdown",
   "metadata": {
    "id": "AD5O-mFz8CiQ"
   },
   "source": [
    "3. **Matrizes:** Representam duas dimensões."
   ]
  },
  {
   "cell_type": "code",
   "execution_count": null,
   "metadata": {
    "id": "1PV3XJCL8CiQ"
   },
   "outputs": [],
   "source": [
    "X = np.array([[2, 4],\n",
    "              [1, 3]])\n",
    "X"
   ]
  },
  {
   "cell_type": "markdown",
   "metadata": {
    "id": "wHGtTyb38CiR"
   },
   "source": [
    "Podemos indexar as matrizes e os vetores."
   ]
  },
  {
   "cell_type": "code",
   "execution_count": null,
   "metadata": {
    "id": "vr4tCW2U8CiR"
   },
   "outputs": [],
   "source": [
    "data[0]"
   ]
  },
  {
   "cell_type": "code",
   "execution_count": null,
   "metadata": {
    "id": "CCsmKMPj8CiR"
   },
   "outputs": [],
   "source": [
    "X[0, 1] # aqui é primeira linha, segunda coluna"
   ]
  },
  {
   "cell_type": "markdown",
   "metadata": {
    "id": "GxULkUHg8CiS"
   },
   "source": [
    "Podemos também criar vetores/matrizes de números aleatórios"
   ]
  },
  {
   "cell_type": "code",
   "execution_count": null,
   "metadata": {
    "id": "pCy9NaSY8CiS"
   },
   "outputs": [],
   "source": [
    "X = np.random.randn(4, 3) # Gera números aleatórios de uma normal\n",
    "print(X)"
   ]
  },
  {
   "cell_type": "markdown",
   "metadata": {
    "id": "cvO3kHDk8CiS"
   },
   "source": [
    "### Indexando\n",
    "\n",
    "Pegando a primeira linha"
   ]
  },
  {
   "cell_type": "code",
   "execution_count": null,
   "metadata": {
    "id": "Ilj5k0SH8CiS"
   },
   "outputs": [],
   "source": [
    "X[0] # observe que 0 é a linha 1, compare com o X[0, 1] de antes."
   ]
  },
  {
   "cell_type": "code",
   "execution_count": null,
   "metadata": {
    "id": "6BLTVuz88CiT"
   },
   "outputs": [],
   "source": [
    "X[1] # segunda"
   ]
  },
  {
   "cell_type": "code",
   "execution_count": null,
   "metadata": {
    "id": "hiQ98SeI8CiT"
   },
   "outputs": [],
   "source": [
    "X[2] # terceira"
   ]
  },
  {
   "cell_type": "markdown",
   "metadata": {
    "id": "472cgfhw8CiT"
   },
   "source": [
    "Observe como todos os tipos retornados são `array`. Array é o nome genérico de Numpy para vetores e matrizes. "
   ]
  },
  {
   "cell_type": "markdown",
   "metadata": {
    "id": "_rfXJQuh8CiT"
   },
   "source": [
    "`X[:, c]` pega uma coluna"
   ]
  },
  {
   "cell_type": "code",
   "execution_count": null,
   "metadata": {
    "id": "bBzoW6XD8CiU"
   },
   "outputs": [],
   "source": [
    "X[:, 0]"
   ]
  },
  {
   "cell_type": "code",
   "execution_count": null,
   "metadata": {
    "id": "ndk1ghAU8CiU"
   },
   "outputs": [],
   "source": [
    "X[:, 1]"
   ]
  },
  {
   "cell_type": "markdown",
   "metadata": {
    "id": "keCXYZlJ8CiU"
   },
   "source": [
    "`X[um_vetor]` pega as linhas da matriz. `X[:, um_vetor]` pega as colunas"
   ]
  },
  {
   "cell_type": "code",
   "execution_count": null,
   "metadata": {
    "id": "bWkJ-2_s8CiU"
   },
   "outputs": [],
   "source": [
    "X[[0, 0, 1]] # observe que pego a primeira linha, indexada por 0, duas vezes"
   ]
  },
  {
   "cell_type": "markdown",
   "metadata": {
    "id": "nMZ7clsl8CiV"
   },
   "source": [
    "Abaixo pego a segunda a primeira coluna"
   ]
  },
  {
   "cell_type": "code",
   "execution_count": null,
   "metadata": {
    "id": "IBSrTR3k8CiV"
   },
   "outputs": [],
   "source": [
    "X[:, [1, 0]]"
   ]
  },
  {
   "cell_type": "markdown",
   "metadata": {
    "id": "vQPs0zE48CiV"
   },
   "source": [
    "### Indexação Booleana\n",
    "\n",
    "`X[vetor_booleano]` retorna as linhas (ou colunas quando X[:, vetor_booleano]) onde o vetor é true"
   ]
  },
  {
   "cell_type": "code",
   "execution_count": null,
   "metadata": {
    "id": "rRksbqwq8CiV"
   },
   "outputs": [],
   "source": [
    "X[[True, False, True, False]]"
   ]
  },
  {
   "cell_type": "code",
   "execution_count": null,
   "metadata": {
    "id": "6h3MALUy8CiV"
   },
   "outputs": [],
   "source": [
    "X[:, [False, True, True]]"
   ]
  },
  {
   "cell_type": "markdown",
   "metadata": {
    "id": "ok_ejLmk8CiW"
   },
   "source": [
    "### Reshape, Flatten e Ravel\n",
    "\n",
    "Todo vetor ou matriz pode ser redimensionado. Observe como uma matriz abaixo de 9x8=72 elementos. Podemos redimensionar os mesmos para outros arrays de tamanho 72."
   ]
  },
  {
   "cell_type": "code",
   "execution_count": null,
   "metadata": {
    "id": "0H9XE6lB8CiW"
   },
   "outputs": [],
   "source": [
    "X = np.random.randn(9, 8)"
   ]
  },
  {
   "cell_type": "markdown",
   "metadata": {
    "id": "9dXdG7cJ8CiW"
   },
   "source": [
    "Criando uma matriz de 18x4."
   ]
  },
  {
   "cell_type": "code",
   "execution_count": null,
   "metadata": {
    "id": "MAWHJmsX8CiW"
   },
   "outputs": [],
   "source": [
    "X.reshape((18, 4))"
   ]
  },
  {
   "cell_type": "markdown",
   "metadata": {
    "id": "lBlqRJRV8CiX"
   },
   "source": [
    "Ou um vetor de 72"
   ]
  },
  {
   "cell_type": "code",
   "execution_count": null,
   "metadata": {
    "id": "_EYqBrNk8CiX"
   },
   "outputs": [],
   "source": [
    "X.reshape(72)"
   ]
  },
  {
   "cell_type": "markdown",
   "metadata": {
    "id": "mBHWCv098CiX"
   },
   "source": [
    "A chamada flatten e ravel faz a mesma coisa, criam uma visão de uma dimensão da matriz."
   ]
  },
  {
   "cell_type": "code",
   "execution_count": null,
   "metadata": {
    "id": "HL1p080e8CiX"
   },
   "outputs": [],
   "source": [
    "X.flatten()"
   ]
  },
  {
   "cell_type": "code",
   "execution_count": null,
   "metadata": {
    "id": "oONBT2v_8CiY"
   },
   "outputs": [],
   "source": [
    "X.ravel()"
   ]
  },
  {
   "cell_type": "markdown",
   "metadata": {
    "id": "4pO0pWCY8CiY"
   },
   "source": [
    "As funções incorporadas ao NumPy podem ser facilmente chamadas em matrizes. A maioria das funções são aplicadas a um elemento de array (como a multiplicação escalar). Por exemplo, se chamarmos `log()` em um array, o logaritmo será obtido de cada elemento. "
   ]
  },
  {
   "cell_type": "code",
   "execution_count": null,
   "metadata": {
    "id": "q_ExOpVT8CiY"
   },
   "outputs": [],
   "source": [
    "np.log(data)"
   ]
  },
  {
   "cell_type": "markdown",
   "metadata": {
    "id": "JHRlOaNs8CiZ"
   },
   "source": [
    "Mean tira a média"
   ]
  },
  {
   "cell_type": "code",
   "execution_count": null,
   "metadata": {
    "id": "ZYnZDh_F8CiZ"
   },
   "outputs": [],
   "source": [
    "np.mean(data)"
   ]
  },
  {
   "cell_type": "markdown",
   "metadata": {
    "id": "fLZfH-BA8CiZ"
   },
   "source": [
    "Algumas funções podem ser chamadas direto no vetor, nem todas serão assim. O importante é ler a [documentação](http://numpy.org) e aprender. Com um pouco de prática você vai se acostumando."
   ]
  },
  {
   "cell_type": "code",
   "execution_count": null,
   "metadata": {
    "id": "oZ-VQlct8CiZ"
   },
   "outputs": [],
   "source": [
    "data.mean()"
   ]
  },
  {
   "cell_type": "markdown",
   "metadata": {
    "id": "aqbqN6aH8CiZ"
   },
   "source": [
    "Abaixo temos a mediana,"
   ]
  },
  {
   "cell_type": "code",
   "execution_count": null,
   "metadata": {
    "id": "1OIRYfEb8Cia"
   },
   "outputs": [],
   "source": [
    "np.median(data) # por exemplo, não existe data.median(). Faz sentido? Não. Mas é assim."
   ]
  },
  {
   "cell_type": "markdown",
   "metadata": {
    "id": "axIfVYwp8Cia"
   },
   "source": [
    "Em matrizes as funções operam em todos os elemntos."
   ]
  },
  {
   "cell_type": "code",
   "execution_count": null,
   "metadata": {
    "id": "F4eYHCEi8Cia"
   },
   "outputs": [],
   "source": [
    "np.median(X)"
   ]
  },
  {
   "cell_type": "code",
   "execution_count": null,
   "metadata": {
    "id": "1RJCY42_8Cia"
   },
   "outputs": [],
   "source": [
    "X.mean()"
   ]
  },
  {
   "cell_type": "code",
   "execution_count": null,
   "metadata": {
    "id": "YFhhwGHr8Cia"
   },
   "outputs": [],
   "source": [
    "np.log(X + 10)"
   ]
  },
  {
   "cell_type": "markdown",
   "metadata": {
    "id": "b5gwZWzL8Cia"
   },
   "source": [
    "Porém, caso você queira a media de linhas ou colunas use `axis`. Antes, vamos ver o tamanho do vetor."
   ]
  },
  {
   "cell_type": "code",
   "execution_count": null,
   "metadata": {
    "id": "D3tn-lr_8Cib"
   },
   "outputs": [],
   "source": [
    "X.shape"
   ]
  },
  {
   "cell_type": "code",
   "execution_count": null,
   "metadata": {
    "id": "SSInAuZd8Cib"
   },
   "outputs": [],
   "source": [
    "np.mean(X, axis=0) # média das colunas. como temos 8 colunas, temos 8 elementos."
   ]
  },
  {
   "cell_type": "code",
   "execution_count": null,
   "metadata": {
    "id": "DVwGh1ER8Cib"
   },
   "outputs": [],
   "source": [
    "np.mean(X, axis=0).shape"
   ]
  },
  {
   "cell_type": "code",
   "execution_count": null,
   "metadata": {
    "id": "cidaCk9u8Cib"
   },
   "outputs": [],
   "source": [
    "np.mean(X, axis=1) # média das linhas"
   ]
  },
  {
   "cell_type": "code",
   "execution_count": null,
   "metadata": {
    "id": "pWHJZfXi8Cic"
   },
   "outputs": [],
   "source": [
    "np.mean(X, axis=1).shape"
   ]
  },
  {
   "cell_type": "markdown",
   "metadata": {
    "id": "3Lpd_BjJ8Cic"
   },
   "source": [
    "Lembre-se que eixo 0 é coluna. Eixo 1 é linas."
   ]
  },
  {
   "cell_type": "markdown",
   "metadata": {
    "id": "zrcPvybL8Cic"
   },
   "source": [
    "### Multiplicação de Matrizes"
   ]
  },
  {
   "cell_type": "markdown",
   "metadata": {
    "id": "nGo1HyrI8Cic"
   },
   "source": [
    "Para transpor uma matriz fazemos uso de .T"
   ]
  },
  {
   "cell_type": "code",
   "execution_count": null,
   "metadata": {
    "id": "u4kxSVTS8Cic"
   },
   "outputs": [],
   "source": [
    "X.shape"
   ]
  },
  {
   "cell_type": "code",
   "execution_count": null,
   "metadata": {
    "id": "8Srya9Mt8Cid"
   },
   "outputs": [],
   "source": [
    "X.T.shape"
   ]
  },
  {
   "cell_type": "code",
   "execution_count": null,
   "metadata": {
    "id": "PIignvAV8Cid"
   },
   "outputs": [],
   "source": [
    "X.T"
   ]
  },
  {
   "cell_type": "markdown",
   "metadata": {
    "id": "rkAiMNIi8Cid"
   },
   "source": [
    "Para multiplicar matrizes, do ponto de visto de multiplicação matricial como definido na álgebra linear, fazemos uso de `@`."
   ]
  },
  {
   "cell_type": "code",
   "execution_count": null,
   "metadata": {
    "id": "yGcHEgFs8Cid"
   },
   "outputs": [],
   "source": [
    "X @ X.T"
   ]
  },
  {
   "cell_type": "markdown",
   "metadata": {
    "id": "nWsy4StO8Cid"
   },
   "source": [
    "O uso de `*` realiza uma operação ponto a ponto"
   ]
  },
  {
   "cell_type": "code",
   "execution_count": null,
   "metadata": {
    "id": "FzfhoZlL8Cie"
   },
   "outputs": [],
   "source": [
    "X * X"
   ]
  },
  {
   "cell_type": "markdown",
   "metadata": {
    "id": "2lZZyGrA8Cie"
   },
   "source": [
    "Observe a diferença de tamanhos"
   ]
  },
  {
   "cell_type": "code",
   "execution_count": null,
   "metadata": {
    "id": "6a21dCck8Cie"
   },
   "outputs": [],
   "source": [
    "(X * X).shape"
   ]
  },
  {
   "cell_type": "code",
   "execution_count": null,
   "metadata": {
    "id": "ukSqzpVU8Cie"
   },
   "outputs": [],
   "source": [
    "(X @ X.T).shape"
   ]
  },
  {
   "cell_type": "markdown",
   "metadata": {
    "id": "7s2sp4828Cie"
   },
   "source": [
    "**Pense:** Para o nosso `X` de tamanho `(9, 8)`, qual o motivo de `X * X.T` não funcionar? Qual o motivo de `X @ X` não funcionar?"
   ]
  },
  {
   "cell_type": "markdown",
   "metadata": {
    "id": "qOXZlX5D8Cie"
   },
   "source": [
    "## Correção Automática\n",
    "\n",
    "Nossa correção automática depende das funções abaixo. Tais funções comparam valores que serão computados pelo seu código com uma saída esperada. Normalmente, vocês não fazer uso de tais funções em notebooks como este. Porém, elas são chave em ambientes de testes automáticos (fora do nosso escopo).\n",
    "\n",
    "Observe como algumas funções comparam valores e outras comparam vetores. Além do mais, temos funções para comparar dentro de algumas casas decimais."
   ]
  },
  {
   "cell_type": "code",
   "execution_count": null,
   "metadata": {
    "id": "w2uqZMSh8Cif"
   },
   "outputs": [],
   "source": [
    "from numpy.testing import assert_almost_equal\n",
    "from numpy.testing import assert_equal\n",
    "\n",
    "from numpy.testing import assert_array_almost_equal\n",
    "from numpy.testing import assert_array_equal"
   ]
  },
  {
   "cell_type": "code",
   "execution_count": null,
   "metadata": {
    "id": "SVTb-O438Cif"
   },
   "outputs": [],
   "source": [
    "# caso você mude um dos valores vamos receber um erro!\n",
    "assert_array_equal(2, 2)\n",
    "\n",
    "# caso você mude um dos valores vamos receber um erro!\n",
    "assert_array_equal([1, 2], [1, 2])\n",
    "\n",
    "# caso você mude um dos valores vamos receber um erro!\n",
    "assert_almost_equal(3.1415, 3.14, 1)"
   ]
  },
  {
   "cell_type": "markdown",
   "metadata": {
    "id": "YS7r8bbb8Cif"
   },
   "source": [
    "Caso você mude um dos valores abaixo vamos receber um erro! Como o abaixo.\n",
    "\n",
    "```\n",
    "-----------------------------------------------------------------------\n",
    "AssertionError                        Traceback (most recent call last)\n",
    "<ipython-input-10-396672d880f2> in <module>\n",
    "----> 1 assert_equal(2, 3) # caso você mude um dos valores vamos receber um erro!\n",
    "\n",
    "~/miniconda3/lib/python3.7/site-packages/numpy/testing/_private/utils.py in assert_equal(actual, desired, err_msg, verbose)\n",
    "    413         # Explicitly use __eq__ for comparison, gh-2552\n",
    "    414         if not (desired == actual):\n",
    "--> 415             raise AssertionError(msg)\n",
    "    416 \n",
    "    417     except (DeprecationWarning, FutureWarning) as e:\n",
    "\n",
    "AssertionError: \n",
    "Items are not equal:\n",
    " ACTUAL: 2\n",
    " DESIRED: 3\n",
    " ```"
   ]
  },
  {
   "cell_type": "markdown",
   "metadata": {
    "id": "WfcCFOCq8Cif"
   },
   "source": [
    "É essencial que todo seu código execute sem erros! Portanto, antes de submeter clique em `Kernel` no menu acima. Depois clique em `Restart & Execute All.`\n",
    "\n",
    "**Garanta que o notebook executa até o fim!** Isto é, sem erros como o acima."
   ]
  },
  {
   "cell_type": "markdown",
   "metadata": {
    "id": "LQL2RaaG8Cif"
   },
   "source": [
    "## Funções em Python"
   ]
  },
  {
   "cell_type": "markdown",
   "metadata": {
    "id": "GnRsDEK28Cig"
   },
   "source": [
    "Para criar uma função em Python fazemos uso da palavra-chave: \n",
    "```python\n",
    "def\n",
    "```\n",
    "\n",
    "Todos nossos exercícios farão uso de funções. **Mantenha a assinatura das funções exatamente como requisitado, a correção automática depende disso.** Abaixo, temos um exempo de uma função que imprime algo na tela!"
   ]
  },
  {
   "cell_type": "code",
   "execution_count": null,
   "metadata": {
    "id": "OeLKXDWr8Cig"
   },
   "outputs": [],
   "source": [
    "def print_something(txt):\n",
    "    print(f'Voce passou o argumento: {txt}')"
   ]
  },
  {
   "cell_type": "code",
   "execution_count": null,
   "metadata": {
    "id": "hgMdqUFa8Cig"
   },
   "outputs": [],
   "source": [
    "print_something('DCC 212')"
   ]
  },
  {
   "cell_type": "markdown",
   "metadata": {
    "id": "anOjEq9n8Cig"
   },
   "source": [
    "Podemos também dizer o tipo do argumento, porém faremos pouco uso disto em ICD."
   ]
  },
  {
   "cell_type": "code",
   "execution_count": null,
   "metadata": {
    "id": "C8bEfanr8Cig"
   },
   "outputs": [],
   "source": [
    "def print_something(txt: str):\n",
    "    print(f'Voce passou o argumento: {txt}')"
   ]
  },
  {
   "cell_type": "code",
   "execution_count": null,
   "metadata": {
    "id": "TBiUclC98Cig"
   },
   "outputs": [],
   "source": [
    "print_something('DCC 212')"
   ]
  },
  {
   "cell_type": "markdown",
   "metadata": {
    "id": "xhqxEjBD8Cig"
   },
   "source": [
    "Abaixo temos uma função que soma, a soma, dois vetores"
   ]
  },
  {
   "cell_type": "code",
   "execution_count": null,
   "metadata": {
    "id": "mzUz0HmO8Cig"
   },
   "outputs": [],
   "source": [
    "def sum_of_sum_vectors(array_1, array_2):\n",
    "    return (array_1 + array_2).sum()"
   ]
  },
  {
   "cell_type": "code",
   "execution_count": null,
   "metadata": {
    "id": "DJTXHsY08Cih"
   },
   "outputs": [],
   "source": [
    "x = np.array([1, 2])\n",
    "y = np.array([1, 2])"
   ]
  },
  {
   "cell_type": "code",
   "execution_count": null,
   "metadata": {
    "id": "zyZGgvMn8Cih"
   },
   "outputs": [],
   "source": [
    "sum_of_sum_vectors(x, y)"
   ]
  },
  {
   "cell_type": "markdown",
   "metadata": {
    "id": "Am_MYB5j8Cih"
   },
   "source": [
    "Abaixo temos um teste, tais testes vão avaliar o seu código. Nem todos estão aqui no notebook!"
   ]
  },
  {
   "cell_type": "code",
   "execution_count": null,
   "metadata": {
    "id": "iei6hqkR8Cih"
   },
   "outputs": [],
   "source": [
    "assert_equal(6, sum_of_sum_vectors(x, y))"
   ]
  },
  {
   "cell_type": "markdown",
   "metadata": {
    "id": "P52_FJzq8Cih"
   },
   "source": [
    "## Exercício 01\n",
    "\n",
    "Inicialmente, crie uma função que recebe duas listas de números, converte as duas para um vetor numpy usando `np.array` e retorna o produto interno das duas listas. \n",
    "\n",
    "__Dicas:__  \n",
    "1. Tente fazer um código sem nenhum **for**! Ou seja, numpy permite operações em vetores e matrizes, onde: `np.array([1, 2]) + np.array([2, 2]) = np.array([3, 4])`.\n",
    "\n",
    "__Funções:__\n",
    "1. `np.sum(array)` soma os elementos do array. `array.sum()` tem o mesmo efeito!"
   ]
  },
  {
   "cell_type": "code",
   "execution_count": null,
   "metadata": {
    "id": "A72rZTQV8Cih"
   },
   "outputs": [],
   "source": [
    "def inner(array_1, array_2):\n",
    "    x = np.array(array_1)\n",
    "    y = np.array(array_2)\n",
    "    \n",
    "    \n",
    "    return np.sum(x*y)"
   ]
  },
  {
   "cell_type": "code",
   "execution_count": null,
   "metadata": {
    "id": "7rMxISrN8Cih"
   },
   "outputs": [],
   "source": [
    "x1 = np.array([2, 4, 8])\n",
    "x2 = np.array([10, 100, 1000])\n",
    "assert_equal(20 + 400 + 8000, inner(x1, x2))"
   ]
  },
  {
   "cell_type": "markdown",
   "metadata": {
    "id": "bmL4k-cs8Cih"
   },
   "source": [
    "## Exercício 02\n",
    "\n",
    "Implemente uma função utilizando numpy que recebe duas matrizes, multiplica as duas e retorne o valor médio das células da multiplicação. Por exemplo, ao multiplicar:\n",
    "\n",
    "```\n",
    "[1 2]\n",
    "[3 4] \n",
    "\n",
    "com \n",
    "\n",
    "[2 1]\n",
    "[1 2]\n",
    "\n",
    "temos\n",
    "\n",
    "[4  5 ]\n",
    "[10 11]\n",
    "\n",
    "onde a média de [4, 5, 10, 11] é\n",
    "\n",
    "7.5, sua resposta final!\n",
    "```\n",
    "\n",
    "\n",
    "__Dicas:__  \n",
    "1. Use o operador @ para multiplicar matrizes!"
   ]
  },
  {
   "cell_type": "code",
   "execution_count": null,
   "metadata": {
    "id": "UdZlZF7w8Cii"
   },
   "outputs": [],
   "source": [
    "def medmult(X_1, X_2):\n",
    "    Y = X_1 @ X_2\n",
    "    return np.mean(Y)\n"
   ]
  },
  {
   "cell_type": "code",
   "execution_count": null,
   "metadata": {
    "id": "EtLqiI428Cii"
   },
   "outputs": [],
   "source": [
    "X = np.array([1, 2, 3, 4]).reshape(2, 2)\n",
    "Y = np.array([2, 1, 1, 2]).reshape(2, 2)\n",
    "assert_equal(7.5, medmult(X, Y))"
   ]
  },
  {
   "cell_type": "code",
   "execution_count": null,
   "metadata": {
    "id": "DQ7UQ8YA8Cii"
   },
   "outputs": [],
   "source": []
  }
 ],
 "metadata": {
  "colab": {
   "provenance": []
  },
  "kernelspec": {
   "display_name": "Python 3 (ipykernel)",
   "language": "python",
   "name": "python3"
  },
  "language_info": {
   "codemirror_mode": {
    "name": "ipython",
    "version": 3
   },
   "file_extension": ".py",
   "mimetype": "text/x-python",
   "name": "python",
   "nbconvert_exporter": "python",
   "pygments_lexer": "ipython3",
   "version": "3.9.12"
  }
 },
 "nbformat": 4,
 "nbformat_minor": 1
}
